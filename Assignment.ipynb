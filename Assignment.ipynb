{
 "cells": [
  {
   "cell_type": "code",
   "execution_count": 2,
   "id": "c2e772e9",
   "metadata": {},
   "outputs": [],
   "source": [
    "import pandas as pd\n",
    "df=pd.read_csv(\"Shakespeare_data.csv\")"
   ]
  },
  {
   "cell_type": "code",
   "execution_count": 14,
   "id": "6eb84953",
   "metadata": {},
   "outputs": [],
   "source": [
    "df=df[\"PlayerLine\"]\n",
    "df.columns=[0]\n",
    "df=pd.DataFrame(df)"
   ]
  },
  {
   "cell_type": "code",
   "execution_count": 11,
   "id": "ba954bfb",
   "metadata": {},
   "outputs": [
    {
     "name": "stderr",
     "output_type": "stream",
     "text": [
      "[nltk_data] Downloading package stopwords to\n",
      "[nltk_data]     C:\\Users\\user\\AppData\\Roaming\\nltk_data...\n",
      "[nltk_data]   Package stopwords is already up-to-date!\n",
      "[nltk_data] Downloading package punkt to\n",
      "[nltk_data]     C:\\Users\\user\\AppData\\Roaming\\nltk_data...\n",
      "[nltk_data]   Package punkt is already up-to-date!\n",
      "[nltk_data] Downloading package wordnet to\n",
      "[nltk_data]     C:\\Users\\user\\AppData\\Roaming\\nltk_data...\n",
      "[nltk_data]   Package wordnet is already up-to-date!\n",
      "[nltk_data] Downloading package averaged_perceptron_tagger to\n",
      "[nltk_data]     C:\\Users\\user\\AppData\\Roaming\\nltk_data...\n",
      "[nltk_data]   Package averaged_perceptron_tagger is already up-to-\n",
      "[nltk_data]       date!\n",
      "[nltk_data] Downloading package maxent_ne_chunker to\n",
      "[nltk_data]     C:\\Users\\user\\AppData\\Roaming\\nltk_data...\n",
      "[nltk_data]   Package maxent_ne_chunker is already up-to-date!\n",
      "[nltk_data] Downloading package words to\n",
      "[nltk_data]     C:\\Users\\user\\AppData\\Roaming\\nltk_data...\n",
      "[nltk_data]   Package words is already up-to-date!\n"
     ]
    },
    {
     "data": {
      "text/plain": [
       "True"
      ]
     },
     "execution_count": 11,
     "metadata": {},
     "output_type": "execute_result"
    }
   ],
   "source": [
    "import nltk\n",
    "nltk.download(\"stopwords\")\n",
    "nltk.download(\"punkt\")\n",
    "from textblob import Word\n",
    "nltk.download(\"wordnet\")\n",
    "nltk.download(\"averaged_perceptron_tagger\")\n",
    "from nltk.corpus import stopwords\n",
    "import textblob\n",
    "\n",
    "from nltk import word_tokenize,pos_tag,ne_chunk\n",
    "nltk.download(\"maxent_ne_chunker\")\n",
    "nltk.download(\"words\")"
   ]
  },
  {
   "cell_type": "code",
   "execution_count": 26,
   "id": "25c7cc10",
   "metadata": {},
   "outputs": [],
   "source": [
    "#delete stopwords\n",
    "sw=stopwords.words(\"english\")\n",
    "df[\"PlayerLine\"]=df[\"PlayerLine\"].apply(lambda x:\" \".join(x for x in x.split() if x not in sw))\n"
   ]
  },
  {
   "cell_type": "code",
   "execution_count": 27,
   "id": "c1c2dc6a",
   "metadata": {},
   "outputs": [],
   "source": [
    "# make letters lowercase\n",
    "df[\"PlayerLine\"]=df[\"PlayerLine\"].apply(lambda x:x.lower())\n"
   ]
  },
  {
   "cell_type": "code",
   "execution_count": 28,
   "id": "e357f6fa",
   "metadata": {},
   "outputs": [],
   "source": [
    "#tokenization\n",
    "from textblob import TextBlob\n",
    "\n",
    "tokenizated=df[\"PlayerLine\"].apply(lambda x:TextBlob(x).words)"
   ]
  },
  {
   "cell_type": "code",
   "execution_count": 29,
   "id": "c0a9b9a0",
   "metadata": {},
   "outputs": [
    {
     "data": {
      "text/plain": [
       "thou     4840\n",
       "thy      3725\n",
       "shall    3351\n",
       "good     2461\n",
       "would    2185\n",
       "let      2015\n",
       "enter    1953\n",
       "you,     1847\n",
       "hath     1804\n",
       "i'll     1736\n",
       "thee     1638\n",
       "like     1605\n",
       "upon     1598\n",
       "me,      1572\n",
       "make     1544\n",
       "may      1470\n",
       "one      1438\n",
       "must     1415\n",
       "sir,     1411\n",
       "know     1353\n",
       "dtype: int64"
      ]
     },
     "execution_count": 29,
     "metadata": {},
     "output_type": "execute_result"
    }
   ],
   "source": [
    "#Finding most frequent words in play\n",
    "freq=pd.DataFrame(\" \".join(df[\"PlayerLine\"]).split()).value_counts()\n",
    "freq[0:20]\n",
    "\n",
    "#When you see the words they are really sounds like they coming from shakespeare play"
   ]
  }
 ],
 "metadata": {
  "kernelspec": {
   "display_name": "Python 3",
   "language": "python",
   "name": "python3"
  },
  "language_info": {
   "codemirror_mode": {
    "name": "ipython",
    "version": 3
   },
   "file_extension": ".py",
   "mimetype": "text/x-python",
   "name": "python",
   "nbconvert_exporter": "python",
   "pygments_lexer": "ipython3",
   "version": "3.8.8"
  }
 },
 "nbformat": 4,
 "nbformat_minor": 5
}
